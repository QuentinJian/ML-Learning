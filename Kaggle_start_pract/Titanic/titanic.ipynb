{
 "cells": [
  {
   "cell_type": "code",
   "execution_count": 1,
   "source": [
    "import numpy as np\r\n",
    "import pandas as pd\r\n",
    "\r\n",
    "train = pd.read_csv('train.csv')\r\n",
    "test = pd.read_csv('test.csv')\r\n",
    "gender_submission = pd.read_csv('gender_submission.csv')\r\n",
    "\r\n",
    "data = pd.concat([train, test], sort=False)\r\n",
    "data['Sex'].replace(['male', 'female'], [0, 1], inplace=True)\r\n",
    "data['Embarked'].fillna('S', inplace=True)\r\n",
    "data['Embarked'] = data['Embarked'].map() \r\n",
    "data['Fare'].fillna(np.mean(data['Fare']), inplace=True)"
   ],
   "outputs": [],
   "metadata": {}
  },
  {
   "cell_type": "code",
   "execution_count": null,
   "source": [
    "from sklearn.linear_model import LogisticRegression\r\n",
    "\r\n",
    "clf = LogisticRegression(penalty='12', solver='sag', random_state=0)\r\n",
    "clf.fit()"
   ],
   "outputs": [],
   "metadata": {}
  }
 ],
 "metadata": {
  "orig_nbformat": 4,
  "language_info": {
   "name": "python",
   "version": "3.8.10",
   "mimetype": "text/x-python",
   "codemirror_mode": {
    "name": "ipython",
    "version": 3
   },
   "pygments_lexer": "ipython3",
   "nbconvert_exporter": "python",
   "file_extension": ".py"
  },
  "kernelspec": {
   "name": "python3",
   "display_name": "Python 3.8.10 64-bit ('ml': conda)"
  },
  "interpreter": {
   "hash": "fe4a84b179b939cdf3b8e898a4b0079c01494022728fa66163902f78daf84c10"
  }
 },
 "nbformat": 4,
 "nbformat_minor": 2
}