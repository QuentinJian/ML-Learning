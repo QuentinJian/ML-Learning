{
 "cells": [
  {
   "cell_type": "code",
   "execution_count": 1,
   "source": [
    "from keras import layers, Input\r\n",
    "from keras.models import Model\r\n",
    "\r\n",
    "vocabulary_size = 50000\r\n",
    "num_income_groups = 10\r\n",
    "\r\n",
    "post_input = Input(shape=(None, ), dtype='int32', name='posts')\r\n",
    "\r\n",
    "embedding_posts = layers.Embedding(vocabulary_size, 256)(post_input)\r\n",
    "print(embedding_posts.shape)\r\n",
    "\r\n",
    "x = layers.Conv1D(128, 5, activation='relu')(embedding_posts)\r\n",
    "x = layers.MaxPool1D(5)(x)\r\n",
    "x = layers.Conv1D(256, 5, activation='relu')(x)\r\n",
    "x = layers.Conv1D(256, 5, activation='relu')(x)\r\n",
    "x = layers.MaxPool1D(5)(x)\r\n",
    "x = layers.Conv1D(256, 5, activation='relu')(x)\r\n",
    "x = layers.Conv1D(256, 5, activation='relu')(x)\r\n",
    "x = layers.GlobalMaxPooling1D()(x)\r\n",
    "x = layers.Dense(128, activation='relu')(x)\r\n",
    "print(x.shape)\r\n",
    "\r\n",
    "\r\n",
    "age_prediction = layers.Dense(1, name='age')(x)\r\n",
    "\r\n",
    "income_prediction = layers.Dense(num_income_groups,\r\n",
    "                                 activation='softmax',\r\n",
    "                                 name='income')(x)\r\n",
    "\r\n",
    "gender_prediction = layers.Dense(1, activation='sigmoid', name='gender')(x)\r\n",
    "\r\n",
    "model = Model(post_input, [age_prediction, income_prediction, gender_prediction])\r\n",
    "\r\n",
    "model.summary()"
   ],
   "outputs": [],
   "metadata": {}
  }
 ],
 "metadata": {
  "orig_nbformat": 4,
  "language_info": {
   "name": "python",
   "version": "3.8.10",
   "mimetype": "text/x-python",
   "codemirror_mode": {
    "name": "ipython",
    "version": 3
   },
   "pygments_lexer": "ipython3",
   "nbconvert_exporter": "python",
   "file_extension": ".py"
  },
  "kernelspec": {
   "name": "python3",
   "display_name": "Python 3.8.10 64-bit ('ml': conda)"
  },
  "interpreter": {
   "hash": "fe4a84b179b939cdf3b8e898a4b0079c01494022728fa66163902f78daf84c10"
  }
 },
 "nbformat": 4,
 "nbformat_minor": 2
}