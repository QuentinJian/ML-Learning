{
 "cells": [
  {
   "cell_type": "code",
   "execution_count": 16,
   "source": [
    "from keras.datasets import mnist\r\n",
    "\r\n",
    "(train_images, train_labels), (test_image, test_labels) = mnist.load_data()\r\n",
    "\r\n",
    "train_images = train_images.reshape((60000, 28 * 28))\r\n",
    "train_images = train_images.astype('float32') / 255\r\n",
    "\r\n",
    "test_image = test_image.reshape((10000, 28 * 28))\r\n",
    "test_image = test_image.astype('float32') / 255\r\n"
   ],
   "outputs": [],
   "metadata": {}
  },
  {
   "cell_type": "code",
   "execution_count": 20,
   "source": [
    "from keras.utils import to_categorical\r\n",
    "\r\n",
    "train_labels = to_categorical(train_labels)\r\n",
    "test_labels = to_categorical(test_labels)"
   ],
   "outputs": [],
   "metadata": {}
  },
  {
   "cell_type": "code",
   "execution_count": 27,
   "source": [
    "from keras import models\r\n",
    "from keras import layers\r\n",
    "\r\n",
    "model = models.Sequential()\r\n",
    "model.add(layers.Dense(512, activation='relu', input_shape=(28 * 28,)))\r\n",
    "model.add(layers.Dense(10, activation='softmax'))\r\n"
   ],
   "outputs": [],
   "metadata": {}
  },
  {
   "cell_type": "code",
   "execution_count": null,
   "source": [
    "model.summary()"
   ],
   "outputs": [],
   "metadata": {}
  },
  {
   "cell_type": "code",
   "execution_count": 28,
   "source": [
    "model.compile(optimizer='rmsprop', loss='categorical_crossentropy', metrics=['accuracy'])\r\n",
    "history = model.fit(train_images, train_labels, epochs=5, batch_size=128)"
   ],
   "outputs": [
    {
     "output_type": "stream",
     "name": "stdout",
     "text": [
      "Epoch 1/5\n",
      "469/469 [==============================] - 1s 2ms/step - loss: 0.2560 - accuracy: 0.9251\n",
      "Epoch 2/5\n",
      "469/469 [==============================] - 1s 2ms/step - loss: 0.1034 - accuracy: 0.9696\n",
      "Epoch 3/5\n",
      "469/469 [==============================] - 1s 2ms/step - loss: 0.0688 - accuracy: 0.9797\n",
      "Epoch 4/5\n",
      "469/469 [==============================] - 1s 2ms/step - loss: 0.0497 - accuracy: 0.9853\n",
      "Epoch 5/5\n",
      "469/469 [==============================] - 1s 2ms/step - loss: 0.0371 - accuracy: 0.9888\n"
     ]
    }
   ],
   "metadata": {}
  }
 ],
 "metadata": {
  "orig_nbformat": 4,
  "language_info": {
   "name": "python"
  }
 },
 "nbformat": 4,
 "nbformat_minor": 2
}