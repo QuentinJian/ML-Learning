{
 "cells": [
  {
   "cell_type": "code",
   "execution_count": 2,
   "source": [
    "from keras.models import Sequential, Model\r\n",
    "from keras import layers, Input\r\n",
    "\r\n",
    "seq_model = Sequential()\r\n",
    "seq_model.add(layers.Dense(32, activation='relu', input_shape=(64, )))\r\n",
    "seq_model.add(layers.Dense(32, activation='relu'))\r\n",
    "seq_model.add(layers.Dense(10, activation='softmax'))\r\n",
    "\r\n",
    "input_tensor = Input(shape=(64, ))\r\n",
    "\r\n",
    "x = layers.Dense(32, activation='relu')(input_tensor)\r\n",
    "\r\n",
    "y = layers.Dense(32, activation='relu')(x)\r\n",
    "\r\n",
    "output_tensor = layers.Dense(10, activation='softmax')(y)\r\n",
    "\r\n",
    "model = Model(input_tensor, output_tensor)\r\n",
    "model.summary()"
   ],
   "outputs": [
    {
     "output_type": "stream",
     "name": "stdout",
     "text": [
      "(None, 32)\n"
     ]
    }
   ],
   "metadata": {}
  }
 ],
 "metadata": {
  "orig_nbformat": 4,
  "language_info": {
   "name": "python",
   "version": "3.8.10",
   "mimetype": "text/x-python",
   "codemirror_mode": {
    "name": "ipython",
    "version": 3
   },
   "pygments_lexer": "ipython3",
   "nbconvert_exporter": "python",
   "file_extension": ".py"
  },
  "kernelspec": {
   "name": "python3",
   "display_name": "Python 3.8.10 64-bit ('ml': conda)"
  },
  "interpreter": {
   "hash": "fe4a84b179b939cdf3b8e898a4b0079c01494022728fa66163902f78daf84c10"
  }
 },
 "nbformat": 4,
 "nbformat_minor": 2
}