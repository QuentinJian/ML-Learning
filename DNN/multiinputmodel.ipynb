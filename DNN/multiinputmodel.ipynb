{
 "cells": [
  {
   "cell_type": "code",
   "execution_count": 1,
   "source": [
    "from keras import Model\r\n",
    "from keras import layers\r\n",
    "from keras import Input\r\n",
    "\r\n",
    "text_vocabulary_size = 10000\r\n",
    "question_vocabulary_size = 10000\r\n",
    "answer_vocabulary_size = 500\r\n",
    "\r\n",
    "text_input = Input(shape=(None, ), dtype='int32', name='text')\r\n",
    "embedded_text = layers.Embedding(text_vocabulary_size, 64)(text_input)\r\n",
    "print(embedded_text.shape)\r\n",
    "encoded_text = layers.LSTM(32)(embedded_text)\r\n",
    "print(encoded_text.shape)\r\n",
    "\r\n",
    "question_input = Input(shape=(None, ), dtype='int32', name='question')\r\n",
    "embedding_question = layers.Embedding(question_vocabulary_size, 32)(question_input)\r\n",
    "print(embedding_question.shape)\r\n",
    "encoded_question = layers.LSTM(32)(embedding_question)\r\n",
    "print(encoded_question.shape)\r\n",
    "\r\n",
    "concatenated = layers.concatenate([encoded_question, encoded_text], axis=-1)\r\n",
    "print(concatenated.shape)\r\n",
    "\r\n",
    "answer = layers.Dense(answer_vocabulary_size, activation='softmax')(concatenated)\r\n",
    "\r\n",
    "print(answer.shape)\r\n",
    "\r\n",
    "model = Model([text_input, question_input], answer)\r\n",
    "model.compile(optimizer='rmsprop', loss='categorical_crossentropy', metrics=['acc'])\r\n",
    "model.summary()"
   ],
   "outputs": [
    {
     "output_type": "stream",
     "name": "stdout",
     "text": [
      "(None, None, 64)\n",
      "(None, 32)\n",
      "(None, None, 32)\n",
      "(None, 32)\n",
      "(None, 64)\n",
      "(None, 500)\n",
      "Model: \"functional_1\"\n",
      "__________________________________________________________________________________________________\n",
      "Layer (type)                    Output Shape         Param #     Connected to                     \n",
      "==================================================================================================\n",
      "question (InputLayer)           [(None, None)]       0                                            \n",
      "__________________________________________________________________________________________________\n",
      "text (InputLayer)               [(None, None)]       0                                            \n",
      "__________________________________________________________________________________________________\n",
      "embedding_1 (Embedding)         (None, None, 32)     320000      question[0][0]                   \n",
      "__________________________________________________________________________________________________\n",
      "embedding (Embedding)           (None, None, 64)     640000      text[0][0]                       \n",
      "__________________________________________________________________________________________________\n",
      "lstm_1 (LSTM)                   (None, 32)           8320        embedding_1[0][0]                \n",
      "__________________________________________________________________________________________________\n",
      "lstm (LSTM)                     (None, 32)           12416       embedding[0][0]                  \n",
      "__________________________________________________________________________________________________\n",
      "concatenate (Concatenate)       (None, 64)           0           lstm_1[0][0]                     \n",
      "                                                                 lstm[0][0]                       \n",
      "__________________________________________________________________________________________________\n",
      "dense (Dense)                   (None, 500)          32500       concatenate[0][0]                \n",
      "==================================================================================================\n",
      "Total params: 1,013,236\n",
      "Trainable params: 1,013,236\n",
      "Non-trainable params: 0\n",
      "__________________________________________________________________________________________________\n"
     ]
    }
   ],
   "metadata": {}
  }
 ],
 "metadata": {
  "orig_nbformat": 4,
  "language_info": {
   "name": "python",
   "version": "3.8.10",
   "mimetype": "text/x-python",
   "codemirror_mode": {
    "name": "ipython",
    "version": 3
   },
   "pygments_lexer": "ipython3",
   "nbconvert_exporter": "python",
   "file_extension": ".py"
  },
  "kernelspec": {
   "name": "python3",
   "display_name": "Python 3.8.10 64-bit ('ml': conda)"
  },
  "interpreter": {
   "hash": "fe4a84b179b939cdf3b8e898a4b0079c01494022728fa66163902f78daf84c10"
  }
 },
 "nbformat": 4,
 "nbformat_minor": 2
}