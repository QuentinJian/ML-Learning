{
 "cells": [
  {
   "cell_type": "code",
   "execution_count": 1,
   "source": [
    "from keras import Model\r\n",
    "from keras import layers\r\n",
    "from keras import Input\r\n",
    "\r\n",
    "text_vocabulary_size = 10000\r\n",
    "question_vocabulary_size = 10000\r\n",
    "answer_vocabulary_size = 500\r\n",
    "\r\n",
    "text_input = Input(shape=(None, ), dtype='int32', name='text')\r\n",
    "embedded_text = layers.Embedding(text_vocabulary_size, 64)(text_input)\r\n",
    "print(embedded_text.shape)\r\n",
    "encoded_text = layers.LSTM(32)(embedded_text)\r\n",
    "print(encoded_text.shape)"
   ],
   "outputs": [
    {
     "output_type": "stream",
     "name": "stdout",
     "text": [
      "(None, None, 64)\n"
     ]
    }
   ],
   "metadata": {}
  }
 ],
 "metadata": {
  "orig_nbformat": 4,
  "language_info": {
   "name": "python",
   "version": "3.8.10",
   "mimetype": "text/x-python",
   "codemirror_mode": {
    "name": "ipython",
    "version": 3
   },
   "pygments_lexer": "ipython3",
   "nbconvert_exporter": "python",
   "file_extension": ".py"
  },
  "kernelspec": {
   "name": "python3",
   "display_name": "Python 3.8.10 64-bit ('ml': conda)"
  },
  "interpreter": {
   "hash": "fe4a84b179b939cdf3b8e898a4b0079c01494022728fa66163902f78daf84c10"
  }
 },
 "nbformat": 4,
 "nbformat_minor": 2
}