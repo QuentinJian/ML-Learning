{
 "cells": [
  {
   "cell_type": "code",
   "execution_count": null,
   "source": [
    "from keras.datasets import imdb\r\n",
    "from keras.preprocessing import sequence\r\n",
    "from keras import layers\r\n",
    "\r\n",
    "from keras.models import Sequential\r\n",
    "\r\n",
    "max_features = 10000\r\n",
    "maxlen = 500\r\n",
    "\r\n",
    "(x_train, y_train), (x_test, y_test) = imdb.load_data(num_words=max_features)\r\n"
   ],
   "outputs": [],
   "metadata": {}
  }
 ],
 "metadata": {
  "orig_nbformat": 4,
  "language_info": {
   "name": "python"
  }
 },
 "nbformat": 4,
 "nbformat_minor": 2
}