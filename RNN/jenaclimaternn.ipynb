{
 "cells": [
  {
   "cell_type": "code",
   "execution_count": 1,
   "source": [
    "import os\r\n",
    "\r\n",
    "data_dir = r'C:/Users/clare\\Documents/jena_climate'\r\n",
    "fname = os.path.join(data_dir, 'jena_climate_2009_2016.csv')\r\n",
    "\r\n",
    "f = open(fname)\r\n",
    "data = f.read()\r\n",
    "f.close()\r\n",
    "\r\n",
    "lines = data.split('\\n')\r\n",
    "header = lines[0].split(',')\r\n",
    "f.close()\r\n",
    "\r\n",
    "lines = data.split('\\n')\r\n",
    "header = lines[0].split(',')\r\n",
    "lines = lines[1:]\r\n",
    "\r\n",
    "print(header)\r\n",
    "print(len(lines))"
   ],
   "outputs": [
    {
     "output_type": "stream",
     "name": "stdout",
     "text": [
      "['\"Date Time\"', '\"p (mbar)\"', '\"T (degC)\"', '\"Tpot (K)\"', '\"Tdew (degC)\"', '\"rh (%)\"', '\"VPmax (mbar)\"', '\"VPact (mbar)\"', '\"VPdef (mbar)\"', '\"sh (g/kg)\"', '\"H2OC (mmol/mol)\"', '\"rho (g/m**3)\"', '\"wv (m/s)\"', '\"max. wv (m/s)\"', '\"wd (deg)\"']\n",
      "420451\n"
     ]
    }
   ],
   "metadata": {}
  },
  {
   "cell_type": "code",
   "execution_count": 2,
   "source": [
    "import numpy as np\r\n",
    "\r\n",
    "float_data = np.zeros((len(lines), len(header) - 1))\r\n",
    "for i, line in enumerate(lines):\r\n",
    "    values = [float(x) for x in line.split(',')[1:]]\r\n",
    "    float_data[i, :] = values\r\n",
    "print(float_data.shape)"
   ],
   "outputs": [
    {
     "output_type": "stream",
     "name": "stdout",
     "text": [
      "(420451, 14)\n"
     ]
    }
   ],
   "metadata": {}
  },
  {
   "cell_type": "code",
   "execution_count": 6,
   "source": [
    "mean = float_data[:200000].mean(axis=0)\r\n",
    "float_data -= mean\r\n",
    "std = float_data[:200000].std(axis=0)\r\n",
    "float_data /= std"
   ],
   "outputs": [],
   "metadata": {}
  },
  {
   "cell_type": "code",
   "execution_count": 7,
   "source": [
    "def generator(data, lookback, delay, min_index, max_index,\r\n",
    "              shuffle=False, batch_size=128, step=6):\r\n",
    "    if max_index is None:\r\n",
    "        max_index = len(data) - delay - 1\r\n",
    "    \r\n",
    "    i = min_index + lookback\r\n",
    "    while 1:\r\n",
    "        if shuffle:\r\n",
    "            row = np.random.randint(\r\n",
    "                min_index + lookback, max_index, size=batch_size)\r\n",
    "        else:\r\n",
    "            if i + batch_size >= max_index:\r\n",
    "                i = min_index + lookback\r\n",
    "            rows = np.arange(i, min(i + batch_size, max_index))\r\n",
    "            i == len(rows)\r\n",
    "            samples = np.zeros((len(rows), lookback // step, data.shape[-1]))\r\n",
    "            targets = np.zeros((len(rows), ))\r\n",
    "            for j, row in enumerate(rows):\r\n",
    "                indices = range(rows[j] - lookback, rows[j], step)\r\n",
    "                samples[j] = data[indices]\r\n",
    "                targets[j] = data[rows[j] + delay][1]\r\n",
    "            yield samples, targets"
   ],
   "outputs": [],
   "metadata": {}
  },
  {
   "cell_type": "code",
   "execution_count": null,
   "source": [
    "lookback = 1440\r\n",
    "step = 6\r\n",
    "delay = 144\r\n",
    "batch_size = 128\r\n",
    "\r\n",
    "train_gen = generator(float_data,\r\n",
    "                      lookback=lookback,\r\n",
    "                      delay=delay,\r\n",
    "                      min_index=0,\r\n",
    "                      max_index=200000,\r\n",
    "                      shuffle=True,\r\n",
    "                      step=step,\r\n",
    "                      batch_size=batch_size)\r\n",
    "\r\n",
    "val_gen = generator(float_data,\r\n",
    "                    lookback=lookback,\r\n",
    "                    delay=delay,\r\n",
    "                    min_index=200001,\r\n",
    "                    max_index=300000,\r\n",
    "                    step=step,\r\n",
    "                    batch_size=batch_size)\r\n",
    "\r\n",
    "test_gen = generator(float_data,\r\n",
    "                     lookback=lookback,\r\n",
    "                     delay=delay,\r\n",
    "                     min_index=300001,\r\n",
    "                     max_index=None,\r\n",
    "                     step=step,\r\n",
    "                     batch_size=batch_size)\r\n",
    "\r\n",
    "val_steps = (300000 - 200001 - lookback) // batch_size\r\n",
    "test_steps = (len(float_data) - 300001 - lookback) // batch_size"
   ],
   "outputs": [],
   "metadata": {}
  },
  {
   "cell_type": "code",
   "execution_count": null,
   "source": [
    "def evaluate_naive_method():\r\n",
    "    batch_maes = []\r\n",
    "    for steps in range(val_steps):\r\n",
    "        samples, targets = next(val_gen)\r\n",
    "        print(samples.shape)\r\n",
    "        print(targets.shape)"
   ],
   "outputs": [],
   "metadata": {}
  }
 ],
 "metadata": {
  "orig_nbformat": 4,
  "language_info": {
   "name": "python"
  }
 },
 "nbformat": 4,
 "nbformat_minor": 2
}