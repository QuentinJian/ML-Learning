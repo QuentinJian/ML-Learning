{
 "cells": [
  {
   "cell_type": "code",
   "execution_count": 3,
   "source": [
    "import os\r\n",
    "\r\n",
    "data_dir = r'C:/Users/clare\\Documents/jena_climate'\r\n",
    "fname = os.path.join(data_dir, 'jena_climate_2009_2016.csv')\r\n",
    "\r\n",
    "f = open(fname)\r\n",
    "data = f.read()\r\n",
    "f.close()\r\n",
    "\r\n",
    "lines = data.split('\\n')\r\n",
    "header = lines[0].split(',')\r\n",
    "f.close()\r\n",
    "\r\n",
    "lines = data.split('\\n')\r\n",
    "header = lines[0].split(',')\r\n",
    "lines = lines[1:]\r\n",
    "\r\n",
    "print(header)\r\n",
    "print(len(lines))"
   ],
   "outputs": [
    {
     "output_type": "stream",
     "name": "stdout",
     "text": [
      "['\"Date Time\"', '\"p (mbar)\"', '\"T (degC)\"', '\"Tpot (K)\"', '\"Tdew (degC)\"', '\"rh (%)\"', '\"VPmax (mbar)\"', '\"VPact (mbar)\"', '\"VPdef (mbar)\"', '\"sh (g/kg)\"', '\"H2OC (mmol/mol)\"', '\"rho (g/m**3)\"', '\"wv (m/s)\"', '\"max. wv (m/s)\"', '\"wd (deg)\"']\n",
      "420451\n"
     ]
    }
   ],
   "metadata": {}
  },
  {
   "cell_type": "code",
   "execution_count": 4,
   "source": [
    "import numpy as np\r\n",
    "\r\n",
    "float_data = np.zeros((len(lines), len(header) - 1))\r\n",
    "for i, line in enumerate(lines):\r\n",
    "    values = [float(x) for x in line.split(',')[1:]]\r\n",
    "    float_data[i, :] = values\r\n",
    "print(float_data.shape)"
   ],
   "outputs": [
    {
     "output_type": "stream",
     "name": "stdout",
     "text": [
      "(420451, 14)\n"
     ]
    }
   ],
   "metadata": {}
  },
  {
   "cell_type": "code",
   "execution_count": 5,
   "source": [
    "mean = float_data[:200000].mean(axis=0)\r\n",
    "float_data -= mean\r\n",
    "std = float_data[:200000].std(axis=0)\r\n",
    "float_data /= std"
   ],
   "outputs": [],
   "metadata": {}
  },
  {
   "cell_type": "code",
   "execution_count": 16,
   "source": [
    "def generator(data, lookback, delay, min_index, max_index,\r\n",
    "              shuffle=False, batch_size=128, step=6):\r\n",
    "    if max_index is None:\r\n",
    "        max_index = len(data) - delay - 1\r\n",
    "    i = min_index + lookback\r\n",
    "    while 1:\r\n",
    "        if shuffle:\r\n",
    "            rows = np.random.randint(\r\n",
    "                min_index + lookback, max_index, size=batch_size)\r\n",
    "        else:\r\n",
    "            if i + batch_size >= max_index:\r\n",
    "                i = min_index + lookback\r\n",
    "            rows = np.arange(i, min(i + batch_size, max_index))\r\n",
    "            i += len(rows)\r\n",
    "\r\n",
    "        samples = np.zeros((len(rows),\r\n",
    "                           lookback // step,\r\n",
    "                           data.shape[-1]))\r\n",
    "        targets = np.zeros((len(rows),))\r\n",
    "        for j, row in enumerate(rows):\r\n",
    "            indices = range(rows[j] - lookback, rows[j], step)\r\n",
    "            samples[j] = data[indices]\r\n",
    "            targets[j] = data[rows[j] + delay][1]\r\n",
    "        yield samples, targets"
   ],
   "outputs": [],
   "metadata": {}
  },
  {
   "cell_type": "code",
   "execution_count": 17,
   "source": [
    "lookback = 1440\r\n",
    "step = 6\r\n",
    "delay = 144\r\n",
    "batch_size = 128\r\n",
    "\r\n",
    "train_gen = generator(float_data,\r\n",
    "                      lookback=lookback,\r\n",
    "                      delay=delay,\r\n",
    "                      min_index=0,\r\n",
    "                      max_index=200000,\r\n",
    "                      shuffle=True,\r\n",
    "                      step=step,\r\n",
    "                      batch_size=batch_size)\r\n",
    "\r\n",
    "val_gen = generator(float_data,\r\n",
    "                    lookback=lookback,\r\n",
    "                    delay=delay,\r\n",
    "                    min_index=200001,\r\n",
    "                    max_index=300000,\r\n",
    "                    step=step,\r\n",
    "                    batch_size=batch_size)\r\n",
    "\r\n",
    "test_gen = generator(float_data,\r\n",
    "                     lookback=lookback,\r\n",
    "                     delay=delay,\r\n",
    "                     min_index=300001,\r\n",
    "                     max_index=None,\r\n",
    "                     step=step,\r\n",
    "                     batch_size=batch_size)\r\n",
    "\r\n",
    "val_steps = (300000 - 200001 - lookback) // batch_size\r\n",
    "test_steps = (len(float_data) - 300001 - lookback) // batch_size"
   ],
   "outputs": [],
   "metadata": {}
  },
  {
   "cell_type": "code",
   "execution_count": 18,
   "source": [
    "def evaluate_naive_method():\r\n",
    "    batch_maes = []\r\n",
    "    for step in range(val_steps):\r\n",
    "        samples, targets = next(val_gen)\r\n",
    "        #print(samples.shape)\r\n",
    "        #print(targets.shape)\r\n",
    "        preds = samples[:, -1, 1]\r\n",
    "        mae = np.mean(np.abs(preds - targets))\r\n",
    "        batch_maes.append(mae)\r\n",
    "    print(np.mean(batch_maes))\r\n",
    "\r\n",
    "evaluate_naive_method()"
   ],
   "outputs": [
    {
     "output_type": "stream",
     "name": "stdout",
     "text": [
      "0.2897359729905486\n"
     ]
    }
   ],
   "metadata": {}
  },
  {
   "cell_type": "code",
   "execution_count": 19,
   "source": [
    "from keras.models import Sequential\r\n",
    "from keras import layers\r\n",
    "from keras.optimizers import RMSprop\r\n",
    "\r\n",
    "model = Sequential()\r\n",
    "model.add(layers.Flatten(input_shape=(lookback//step, float_data.shape[-1])))\r\n",
    "model.add(layers.Dense(32, activation='relu'))\r\n",
    "model.add(layers.Dense(1))\r\n",
    "model.compile(optimizer=RMSprop(), loss='mae')\r\n",
    "history = model.fit_generator(train_gen,\r\n",
    "                    steps_per_epoch=500,\r\n",
    "                    epochs=20,\r\n",
    "                    validation_data=val_gen,\r\n",
    "                    validation_steps=val_steps)\r\n"
   ],
   "outputs": [
    {
     "output_type": "stream",
     "name": "stdout",
     "text": [
      "Epoch 1/20\n",
      "500/500 [==============================] - 11s 22ms/step - loss: 1.1383 - val_loss: 0.5661\n",
      "Epoch 2/20\n",
      "500/500 [==============================] - 11s 22ms/step - loss: 0.3951 - val_loss: 0.3260\n",
      "Epoch 3/20\n",
      "500/500 [==============================] - 11s 21ms/step - loss: 0.2882 - val_loss: 0.3221\n",
      "Epoch 4/20\n",
      "500/500 [==============================] - 10s 21ms/step - loss: 0.2678 - val_loss: 0.3261\n",
      "Epoch 5/20\n",
      "500/500 [==============================] - 10s 21ms/step - loss: 0.2546 - val_loss: 0.3662\n",
      "Epoch 6/20\n",
      "500/500 [==============================] - 10s 21ms/step - loss: 0.2459 - val_loss: 0.3209\n",
      "Epoch 7/20\n",
      "500/500 [==============================] - 11s 21ms/step - loss: 0.2385 - val_loss: 0.3105\n",
      "Epoch 8/20\n",
      "500/500 [==============================] - 10s 21ms/step - loss: 0.2321 - val_loss: 0.3319\n",
      "Epoch 9/20\n",
      "500/500 [==============================] - 10s 21ms/step - loss: 0.2290 - val_loss: 0.3175\n",
      "Epoch 10/20\n",
      "500/500 [==============================] - 11s 21ms/step - loss: 0.2238 - val_loss: 0.3271\n",
      "Epoch 11/20\n",
      "500/500 [==============================] - 11s 21ms/step - loss: 0.2211 - val_loss: 0.3255\n",
      "Epoch 12/20\n",
      "500/500 [==============================] - 11s 21ms/step - loss: 0.2152 - val_loss: 0.3789\n",
      "Epoch 13/20\n",
      "500/500 [==============================] - 11s 21ms/step - loss: 0.2146 - val_loss: 0.3287\n",
      "Epoch 14/20\n",
      "500/500 [==============================] - 11s 21ms/step - loss: 0.2121 - val_loss: 0.3577\n",
      "Epoch 15/20\n",
      "500/500 [==============================] - 11s 21ms/step - loss: 0.2087 - val_loss: 0.3362\n",
      "Epoch 16/20\n",
      "500/500 [==============================] - 10s 21ms/step - loss: 0.2069 - val_loss: 0.3353\n",
      "Epoch 17/20\n",
      "500/500 [==============================] - 11s 21ms/step - loss: 0.2047 - val_loss: 0.3345\n",
      "Epoch 18/20\n",
      "500/500 [==============================] - 11s 21ms/step - loss: 0.2025 - val_loss: 0.3443\n",
      "Epoch 19/20\n",
      "500/500 [==============================] - 10s 21ms/step - loss: 0.2022 - val_loss: 0.3347\n",
      "Epoch 20/20\n",
      "500/500 [==============================] - 10s 21ms/step - loss: 0.2000 - val_loss: 0.3292\n"
     ]
    }
   ],
   "metadata": {}
  },
  {
   "cell_type": "code",
   "execution_count": 23,
   "source": [
    "import matplotlib.pyplot as plt\r\n",
    "\r\n",
    "loss = history.history['loss']\r\n",
    "val_loss = history.history['val_loss']\r\n",
    "\r\n",
    "epochs = range(1, len(loss) + 1)\r\n",
    "\r\n",
    "plt.figure()\r\n",
    "\r\n",
    "plt.plot(epochs, loss, 'bo', label='Training loss')\r\n",
    "plt.plot(epochs, val_loss, 'b', label='Validation loss')\r\n",
    "plt.title('Training and validation loss')\r\n",
    "plt.legend()\r\n",
    "\r\n",
    "plt.show()"
   ],
   "outputs": [
    {
     "output_type": "display_data",
     "data": {
      "text/plain": [
       "<Figure size 432x288 with 1 Axes>"
      ],
      "image/png": "[encoded data removed]"
     },
     "metadata": {
      "needs_background": "light"
     }
    }
   ],
   "metadata": {}
  },
  {
   "cell_type": "code",
   "execution_count": 24,
   "source": [
    "from keras.models import Sequential\r\n",
    "from keras import layers\r\n",
    "from keras.optimizers import RMSprop\r\n",
    "\r\n",
    "model = Sequential()\r\n",
    "model.add(layers.GRU(32, input_shape=(None, float_data.shape[-1])))\r\n",
    "model.add(layers.Dense(1))\r\n",
    "\r\n",
    "model.compile(optimizer=RMSprop(), loss='mae')\r\n",
    "history = model.fit_generator(train_gen,\r\n",
    "                              steps_per_epoch=500,\r\n",
    "                              epochs=20,\r\n",
    "                              validation_data=val_gen,\r\n",
    "                              validation_steps=val_steps)"
   ],
   "outputs": [
    {
     "output_type": "stream",
     "name": "stdout",
     "text": [
      "Epoch 1/20\n",
      "500/500 [==============================] - 12s 23ms/step - loss: 0.3031 - val_loss: 0.2697\n",
      "Epoch 2/20\n",
      "500/500 [==============================] - 12s 23ms/step - loss: 0.2810 - val_loss: 0.2638\n",
      "Epoch 3/20\n",
      "500/500 [==============================] - 11s 22ms/step - loss: 0.2759 - val_loss: 0.2663\n",
      "Epoch 4/20\n",
      "500/500 [==============================] - 11s 22ms/step - loss: 0.2687 - val_loss: 0.2699\n",
      "Epoch 5/20\n",
      "500/500 [==============================] - 11s 22ms/step - loss: 0.2647 - val_loss: 0.2710\n",
      "Epoch 6/20\n",
      "500/500 [==============================] - 11s 22ms/step - loss: 0.2596 - val_loss: 0.2717\n",
      "Epoch 7/20\n",
      "500/500 [==============================] - 11s 22ms/step - loss: 0.2573 - val_loss: 0.2687\n",
      "Epoch 8/20\n",
      "500/500 [==============================] - 11s 22ms/step - loss: 0.2524 - val_loss: 0.2681\n",
      "Epoch 9/20\n",
      "500/500 [==============================] - 11s 22ms/step - loss: 0.2490 - val_loss: 0.2772\n",
      "Epoch 10/20\n",
      "500/500 [==============================] - 11s 22ms/step - loss: 0.2451 - val_loss: 0.2746\n",
      "Epoch 11/20\n",
      "500/500 [==============================] - 11s 22ms/step - loss: 0.2393 - val_loss: 0.2767\n",
      "Epoch 12/20\n",
      "500/500 [==============================] - 11s 22ms/step - loss: 0.2366 - val_loss: 0.2833\n",
      "Epoch 13/20\n",
      "500/500 [==============================] - 11s 22ms/step - loss: 0.2310 - val_loss: 0.2881\n",
      "Epoch 14/20\n",
      "500/500 [==============================] - 11s 22ms/step - loss: 0.2287 - val_loss: 0.2931\n",
      "Epoch 15/20\n",
      "500/500 [==============================] - 11s 22ms/step - loss: 0.2238 - val_loss: 0.2954\n",
      "Epoch 16/20\n",
      "500/500 [==============================] - 11s 22ms/step - loss: 0.2217 - val_loss: 0.2985\n",
      "Epoch 17/20\n",
      "500/500 [==============================] - 11s 22ms/step - loss: 0.2171 - val_loss: 0.3007\n",
      "Epoch 18/20\n",
      "500/500 [==============================] - 11s 22ms/step - loss: 0.2141 - val_loss: 0.3109\n",
      "Epoch 19/20\n",
      "500/500 [==============================] - 11s 22ms/step - loss: 0.2102 - val_loss: 0.3097\n",
      "Epoch 20/20\n",
      "500/500 [==============================] - 11s 22ms/step - loss: 0.2067 - val_loss: 0.3038\n"
     ]
    }
   ],
   "metadata": {}
  },
  {
   "cell_type": "code",
   "execution_count": null,
   "source": [
    "import matplotlib.pyplot as plt\r\n",
    "\r\n",
    "loss = history.history['loss']\r\n",
    "val_loss = history.history['val_loss']\r\n",
    "\r\n",
    "epochs = range(1, len(loss) + 1)\r\n",
    "\r\n",
    "plt.figure()\r\n",
    "\r\n",
    "plt.plot(epochs, loss, 'bo', label='Training loss')\r\n",
    "plt.plot(epochs, val_loss, 'b', label='Validation loss')\r\n",
    "plt.title('Training and validation loss')\r\n",
    "plt.legend()\r\n",
    "\r\n",
    "plt.show()"
   ],
   "outputs": [],
   "metadata": {}
  }
 ],
 "metadata": {
  "orig_nbformat": 4,
  "language_info": {
   "name": "python"
  }
 },
 "nbformat": 4,
 "nbformat_minor": 2
}