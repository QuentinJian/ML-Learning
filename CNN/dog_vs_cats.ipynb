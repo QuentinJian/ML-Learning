{
 "cells": [
  {
   "cell_type": "code",
   "execution_count": 5,
   "source": [
    "from keras.applications import VGG16\r\n",
    "from keras import models\r\n",
    "from keras import layers\r\n",
    "\r\n",
    "conv_base = VGG16(weights='imagenet',\r\n",
    "                  include_top=False,\r\n",
    "                  input_shape=(150, 150, 3))\r\n",
    "\r\n",
    "model = models.Sequential()\r\n",
    "model.add(conv_base)\r\n",
    "model.add(layers.Flatten())\r\n",
    "model.add(layers.Dense(256, activation='relu'))\r\n",
    "model.add(layers.Dense(1, activation='sigmoid'))"
   ],
   "outputs": [],
   "metadata": {}
  },
  {
   "cell_type": "code",
   "execution_count": 6,
   "source": [
    "print('This is the number of trainable weights '\r\n",
    "      'before freezing the conv base:', len(model.trainable_weights))\r\n",
    "conv_base.trainable = False\r\n",
    "print('This is the number of trainable weights '\r\n",
    "      'after freezing the conv base:', len(model.trainable_weights))"
   ],
   "outputs": [
    {
     "output_type": "stream",
     "name": "stdout",
     "text": [
      "This is the number of trainable weights before freezing the conv base: 30\n",
      "This is the number of trainable weights after freezing the conv base: 4\n"
     ]
    }
   ],
   "metadata": {}
  },
  {
   "cell_type": "code",
   "execution_count": 7,
   "source": [
    "import os \r\n",
    "import numpy as np\r\n",
    "from keras import optimizers\r\n",
    "from keras.preprocessing.image import ImageDataGenerator\r\n",
    "\r\n",
    "base_dir = r'D:/train/cats_and_dogs_small'\r\n",
    "\r\n",
    "train_dir = os.path.join(base_dir, 'train')\r\n",
    "validation_dir = os.path.join(base_dir, 'validation')\r\n",
    "test_dir = os.path.join(base_dir, 'test')\r\n",
    "\r\n",
    "\r\n",
    "train_datagen = ImageDataGenerator(\r\n",
    "    rescale=1./255,\r\n",
    "    rotation_range=40,\r\n",
    "    width_shift_range=0.2,\r\n",
    "    height_shift_range=0.2,\r\n",
    "    shear_range=0.2,\r\n",
    "    zoom_range=0.2,\r\n",
    "    horizontal_flip=True,\r\n",
    "    fill_mode='nearest')\r\n",
    "\r\n",
    "\r\n",
    "test_datagen = ImageDataGenerator(rescale=1./255)\r\n",
    "\r\n",
    "\r\n",
    "train_generator = train_datagen.flow_from_directory(\r\n",
    "    train_dir,\r\n",
    "    target_size=(150, 150),\r\n",
    "    batch_size=20,\r\n",
    "    class_mode='binary')\r\n",
    "\r\n",
    "\r\n",
    "validation_generator = test_datagen.flow_from_directory(\r\n",
    "    validation_dir,\r\n",
    "    target_size=(150, 150),\r\n",
    "    batch_size=20,\r\n",
    "    class_mode='binary',)\r\n",
    "\r\n",
    "model.compile(loss='binary_crossentropy',\r\n",
    "              optimizer=optimizers.RMSprop(lr=2e-5),\r\n",
    "              metrics=['acc'])\r\n",
    "\r\n",
    "history = model.fit_generator(\r\n",
    "    train_generator,\r\n",
    "    steps_per_epoch=100,\r\n",
    "    epochs=30,\r\n",
    "    validation_data=validation_generator,\r\n",
    "    validation_steps=50)\r\n",
    "\r\n",
    "\r\n",
    "#datagen = ImageDataGenerator(rescale=1./255)\r\n",
    "#batch_size = 20\r\n",
    "\r\n",
    "'''\r\n",
    "def extract_features(directory, sample_count):\r\n",
    "    features = np.zeros(shape=(sample_count, 4, 4, 512))\r\n",
    "    labels = np.zeros(shape=(sample_count))\r\n",
    "    generator = datagen.flow_from_directory(directory, target_size=(150, 150), batch_size=batch_size, class_mode='binary')\r\n",
    "\r\n",
    "    i = 0\r\n",
    "    for inputs_batch, labels_batch in generator:\r\n",
    "        features_batch = conv_base.predict(inputs_batch)\r\n",
    "        features[i * batch_size : (i + 1) * batch_size] = features_batch\r\n",
    "        labels[i * batch_size : (i + 1) * batch_size] = labels_batch\r\n",
    "        i += 1\r\n",
    "        print(i, end=' ')\r\n",
    "        if i * batch_size >= sample_count:\r\n",
    "            break\r\n",
    "\r\n",
    "    return features, labels\r\n",
    "\r\n",
    "train_features, train_labels = extract_features(train_dir, 2000)\r\n",
    "validation_features, validation_labels = extract_features(validation_dir, 1000)\r\n",
    "test_features, test_labels = extract_features(test_dir, 1000)\r\n",
    "'''"
   ],
   "outputs": [
    {
     "output_type": "stream",
     "name": "stdout",
     "text": [
      "Found 2000 images belonging to 2 classes.\n",
      "Found 1000 images belonging to 2 classes.\n",
      "WARNING:tensorflow:From <ipython-input-7-d7cf4e48bc74>:44: Model.fit_generator (from tensorflow.python.keras.engine.training) is deprecated and will be removed in a future version.\n",
      "Instructions for updating:\n",
      "Please use Model.fit, which supports generators.\n",
      "Epoch 1/30\n",
      "100/100 [==============================] - 44s 445ms/step - loss: 0.5979 - acc: 0.6725 - val_loss: 0.4645 - val_acc: 0.8200\n",
      "Epoch 2/30\n",
      "100/100 [==============================] - 17s 166ms/step - loss: 0.4931 - acc: 0.7765 - val_loss: 0.3782 - val_acc: 0.8500\n",
      "Epoch 3/30\n",
      "100/100 [==============================] - 17s 168ms/step - loss: 0.4424 - acc: 0.8045 - val_loss: 0.3365 - val_acc: 0.8620\n",
      "Epoch 4/30\n",
      "100/100 [==============================] - 17s 168ms/step - loss: 0.4096 - acc: 0.8205 - val_loss: 0.3154 - val_acc: 0.8790\n",
      "Epoch 5/30\n",
      "100/100 [==============================] - 17s 168ms/step - loss: 0.3829 - acc: 0.8305 - val_loss: 0.2964 - val_acc: 0.8740\n",
      "Epoch 6/30\n",
      "100/100 [==============================] - 16s 165ms/step - loss: 0.3675 - acc: 0.8375 - val_loss: 0.2894 - val_acc: 0.8750\n",
      "Epoch 7/30\n",
      "100/100 [==============================] - 16s 165ms/step - loss: 0.3538 - acc: 0.8465 - val_loss: 0.2816 - val_acc: 0.8830\n",
      "Epoch 8/30\n",
      "100/100 [==============================] - 17s 166ms/step - loss: 0.3460 - acc: 0.8515 - val_loss: 0.2734 - val_acc: 0.8890\n",
      "Epoch 9/30\n",
      "100/100 [==============================] - 17s 165ms/step - loss: 0.3366 - acc: 0.8520 - val_loss: 0.2652 - val_acc: 0.8870\n",
      "Epoch 10/30\n",
      "100/100 [==============================] - 17s 165ms/step - loss: 0.3450 - acc: 0.8465 - val_loss: 0.2615 - val_acc: 0.8910\n",
      "Epoch 11/30\n",
      "100/100 [==============================] - 17s 165ms/step - loss: 0.3376 - acc: 0.8525 - val_loss: 0.2573 - val_acc: 0.9020\n",
      "Epoch 12/30\n",
      "100/100 [==============================] - 16s 164ms/step - loss: 0.3239 - acc: 0.8605 - val_loss: 0.2522 - val_acc: 0.8940\n",
      "Epoch 13/30\n",
      "100/100 [==============================] - 16s 164ms/step - loss: 0.3306 - acc: 0.8515 - val_loss: 0.2546 - val_acc: 0.8900\n",
      "Epoch 14/30\n",
      "100/100 [==============================] - 16s 164ms/step - loss: 0.3438 - acc: 0.8455 - val_loss: 0.2476 - val_acc: 0.8980\n",
      "Epoch 15/30\n",
      "100/100 [==============================] - 16s 164ms/step - loss: 0.3155 - acc: 0.8670 - val_loss: 0.2472 - val_acc: 0.9030\n",
      "Epoch 16/30\n",
      "100/100 [==============================] - 16s 164ms/step - loss: 0.3134 - acc: 0.8615 - val_loss: 0.2501 - val_acc: 0.8930\n",
      "Epoch 17/30\n",
      "100/100 [==============================] - 16s 164ms/step - loss: 0.3164 - acc: 0.8715 - val_loss: 0.2557 - val_acc: 0.9000\n",
      "Epoch 18/30\n",
      "100/100 [==============================] - 16s 164ms/step - loss: 0.3089 - acc: 0.8630 - val_loss: 0.2451 - val_acc: 0.8990\n",
      "Epoch 19/30\n",
      "100/100 [==============================] - 16s 164ms/step - loss: 0.3041 - acc: 0.8675 - val_loss: 0.2472 - val_acc: 0.9040\n",
      "Epoch 20/30\n",
      "100/100 [==============================] - 16s 164ms/step - loss: 0.3070 - acc: 0.8645 - val_loss: 0.2438 - val_acc: 0.8980\n",
      "Epoch 21/30\n",
      "100/100 [==============================] - 16s 165ms/step - loss: 0.3048 - acc: 0.8680 - val_loss: 0.2436 - val_acc: 0.9010\n",
      "Epoch 22/30\n",
      "100/100 [==============================] - 17s 166ms/step - loss: 0.2985 - acc: 0.8665 - val_loss: 0.2416 - val_acc: 0.9030\n",
      "Epoch 23/30\n",
      "100/100 [==============================] - 16s 164ms/step - loss: 0.2976 - acc: 0.8675 - val_loss: 0.2420 - val_acc: 0.9010\n",
      "Epoch 24/30\n",
      "100/100 [==============================] - 16s 164ms/step - loss: 0.2803 - acc: 0.8785 - val_loss: 0.2467 - val_acc: 0.9040\n",
      "Epoch 25/30\n",
      "100/100 [==============================] - 16s 164ms/step - loss: 0.2803 - acc: 0.8810 - val_loss: 0.2446 - val_acc: 0.9070\n",
      "Epoch 26/30\n",
      "100/100 [==============================] - 16s 164ms/step - loss: 0.2881 - acc: 0.8780 - val_loss: 0.2397 - val_acc: 0.9070\n",
      "Epoch 27/30\n",
      "100/100 [==============================] - 16s 164ms/step - loss: 0.2776 - acc: 0.8810 - val_loss: 0.2385 - val_acc: 0.9070\n",
      "Epoch 28/30\n",
      "100/100 [==============================] - 16s 164ms/step - loss: 0.3003 - acc: 0.8725 - val_loss: 0.2377 - val_acc: 0.9040\n",
      "Epoch 29/30\n",
      "100/100 [==============================] - 16s 164ms/step - loss: 0.2841 - acc: 0.8775 - val_loss: 0.2415 - val_acc: 0.9050\n",
      "Epoch 30/30\n",
      "100/100 [==============================] - 17s 165ms/step - loss: 0.2842 - acc: 0.8725 - val_loss: 0.2383 - val_acc: 0.9110\n"
     ]
    },
    {
     "output_type": "execute_result",
     "data": {
      "text/plain": [
       "\"\\ndef extract_features(directory, sample_count):\\n    features = np.zeros(shape=(sample_count, 4, 4, 512))\\n    labels = np.zeros(shape=(sample_count))\\n    generator = datagen.flow_from_directory(directory, target_size=(150, 150), batch_size=batch_size, class_mode='binary')\\n\\n    i = 0\\n    for inputs_batch, labels_batch in generator:\\n        features_batch = conv_base.predict(inputs_batch)\\n        features[i * batch_size : (i + 1) * batch_size] = features_batch\\n        labels[i * batch_size : (i + 1) * batch_size] = labels_batch\\n        i += 1\\n        print(i, end=' ')\\n        if i * batch_size >= sample_count:\\n            break\\n\\n    return features, labels\\n\\ntrain_features, train_labels = extract_features(train_dir, 2000)\\nvalidation_features, validation_labels = extract_features(validation_dir, 1000)\\ntest_features, test_labels = extract_features(test_dir, 1000)\\n\""
      ]
     },
     "metadata": {},
     "execution_count": 7
    }
   ],
   "metadata": {}
  },
  {
   "cell_type": "code",
   "execution_count": 9,
   "source": [
    "import matplotlib.pyplot as plt\r\n",
    "\r\n",
    "acc = history.history['acc']\r\n",
    "val_acc = history.history['val_acc']\r\n",
    "loss = history.history['loss']\r\n",
    "val_loss = history.history['val_loss']\r\n",
    "\r\n",
    "epochs = range(1, len(acc) + 1)\r\n",
    "\r\n",
    "plt.plot(epochs, acc, 'bo', label='Training acc')\r\n",
    "plt.plot(epochs, val_acc, 'b', label='validation acc')\r\n",
    "plt.title('training and validation acc')\r\n",
    "plt.legend()\r\n",
    "\r\n",
    "plt.figure()\r\n",
    "\r\n",
    "plt.plot(epochs, loss, 'bo', label='Training loss')\r\n",
    "plt.plot(epochs, val_loss, 'b', label='Validation loss')\r\n",
    "plt.legend()\r\n",
    "\r\n",
    "plt.show()"
   ],
   "outputs": [
    {
     "output_type": "display_data",
     "data": {
      "text/plain": [
       "<Figure size 432x288 with 1 Axes>"
      ],
      "image/png": "[encoded data removed]"
     },
     "metadata": {
      "needs_background": "light"
     }
    },
    {
     "output_type": "display_data",
     "data": {
      "text/plain": [
       "<Figure size 432x288 with 1 Axes>"
      ],
      "image/png": "[encoded data removed]"
     },
     "metadata": {
      "needs_background": "light"
     }
    }
   ],
   "metadata": {}
  }
 ],
 "metadata": {
  "interpreter": {
   "hash": "fe4a84b179b939cdf3b8e898a4b0079c01494022728fa66163902f78daf84c10"
  },
  "kernelspec": {
   "display_name": "Python 3.8.10 64-bit ('ml': conda)",
   "name": "python3"
  },
  "language_info": {
   "codemirror_mode": {
    "name": "ipython",
    "version": 3
   },
   "file_extension": ".py",
   "mimetype": "text/x-python",
   "name": "python",
   "nbconvert_exporter": "python",
   "pygments_lexer": "ipython3",
   "version": "3.8.10"
  },
  "orig_nbformat": 4
 },
 "nbformat": 4,
 "nbformat_minor": 2
}